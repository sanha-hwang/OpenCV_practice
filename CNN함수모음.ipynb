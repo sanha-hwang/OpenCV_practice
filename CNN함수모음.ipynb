{
  "nbformat": 4,
  "nbformat_minor": 0,
  "metadata": {
    "colab": {
      "name": "CNN함수모음.ipynb",
      "provenance": [],
      "collapsed_sections": [],
      "authorship_tag": "ABX9TyPLg4LcG+EEn4KEr6Ur+bGC",
      "include_colab_link": true
    },
    "kernelspec": {
      "name": "python3",
      "display_name": "Python 3"
    },
    "language_info": {
      "name": "python"
    }
  },
  "cells": [
    {
      "cell_type": "markdown",
      "metadata": {
        "id": "view-in-github",
        "colab_type": "text"
      },
      "source": [
        "<a href=\"https://colab.research.google.com/github/sanha-hwang/OpenCV_practrice/blob/main/CNN%ED%95%A8%EC%88%98%EB%AA%A8%EC%9D%8C.ipynb\" target=\"_parent\"><img src=\"https://colab.research.google.com/assets/colab-badge.svg\" alt=\"Open In Colab\"/></a>"
      ]
    },
    {
      "cell_type": "markdown",
      "metadata": {
        "id": "oaf2kVu0ImlH"
      },
      "source": [
        "```\n",
        "Conv2D(\n",
        "    filters, # int, 몇개의 컨볼루션 필터를 사용할건지, 피쳐맵 개수가 정해진다\n",
        "    kernel_size, # int or tuple/list of 2 int , 컨볼루션 필터의 크기\n",
        "    strides=(1, 1), # int or tuple/list of 2 int, stride크기 \n",
        "    padding='valid', # 'valid' :padding=0 으로도 표기 패딩안씀, same: zero padding하여 차원 변화없게 함\n",
        "    activation=None, \n",
        "    data_format=None, # 'channels_last' : batch_shape+(rows ,cols, channels) ,\n",
        "                        'channels_first' : batch_shape+(channels, rows ,cols)\n",
        "    \n",
        "    dilation_rate=(1, 1), groups=1, \n",
        "    use_bias=True, kernel_initializer='glorot_uniform',\n",
        "    bias_initializer='zeros', kernel_regularizer=None,\n",
        "    bias_regularizer=None, activity_regularizer=None, kernel_constraint=None,\n",
        "    bias_constraint=None,\n",
        ")\n",
        "\n",
        "```\n",
        "\n"
      ]
    },
    {
      "cell_type": "markdown",
      "metadata": {
        "id": "xKr1LP6bN-t8"
      },
      "source": [
        "\n",
        "\n",
        "```\n",
        "tf.keras.layers.MaxPool2D(\n",
        "    pool_size=(2, 2), # int or tuple of 2 int, max value를 취함\n",
        "    strides=None, # (default)pool_size\n",
        "    padding='valid',\n",
        "    data_format=None,\n",
        "   \n",
        ")\n",
        "```\n",
        "\n"
      ]
    },
    {
      "cell_type": "markdown",
      "metadata": {
        "id": "N10PJbB9P0Cl"
      },
      "source": [
        "\n",
        "\n",
        "```\n",
        "tf.keras.layers.Dropout(\n",
        "    rate, # float, 0 ~ 1 값, 끄고 싶은 비율\n",
        "    noise_shape=None,\n",
        "    seed=None, \n",
        ")\n",
        "```\n",
        "\n"
      ]
    },
    {
      "cell_type": "markdown",
      "metadata": {
        "id": "X4gq3KlCO6tv"
      },
      "source": [
        "\n",
        "\n",
        "```\n",
        "tf.keras.layers.BatchNormalization(\n",
        "    axis=-1, momentum=0.99, epsilon=0.001, center=True, scale=True,\n",
        "    beta_initializer='zeros', gamma_initializer='ones',\n",
        "    moving_mean_initializer='zeros',\n",
        "    moving_variance_initializer='ones', beta_regularizer=None,\n",
        "    gamma_regularizer=None, beta_constraint=None, gamma_constraint=None, **kwargs\n",
        ")\n",
        "```\n",
        "\n"
      ]
    },
    {
      "cell_type": "code",
      "metadata": {
        "id": "oXvvaKf0F72X"
      },
      "source": [
        "import tensorflow as tf\n",
        "from tensorflow import keras\n",
        "from tensorflow.keras.models import Model\n",
        "from tensorflow.keras.layers import Dense, Flatten, Conv2D, MaxPooling2D, Dropout, BatchNormalization, Input, Activation\n",
        "\n"
      ],
      "execution_count": 26,
      "outputs": []
    },
    {
      "cell_type": "code",
      "metadata": {
        "id": "tfYOtFWkHwK4"
      },
      "source": [
        "(X_train, y_train), (X_test, y_test) = tf.keras.datasets.mnist.load_data()"
      ],
      "execution_count": 8,
      "outputs": []
    },
    {
      "cell_type": "code",
      "metadata": {
        "id": "FuCoEeM7If5f"
      },
      "source": [
        "from keras.utils.np_utils import to_categorical\n",
        "\n",
        "X_train = X_train / 255 \n",
        "X_test = X_test / 255\n",
        "\n",
        "X_train = X_train.reshape((X_train.shape[0], X_train.shape[1], X_train.shape[2], 1))\n",
        "X_test = X_test.reshape((X_test.shape[0], X_test.shape[1], X_test.shape[2], 1))\n",
        "\n",
        "# converting y data into categorical (one-hot encoding)\n",
        "y_train = to_categorical(y_train)\n",
        "y_test = to_categorical(y_test)\n"
      ],
      "execution_count": 9,
      "outputs": []
    },
    {
      "cell_type": "code",
      "metadata": {
        "colab": {
          "base_uri": "https://localhost:8080/"
        },
        "id": "VLueZyPTIx5G",
        "outputId": "55dc3425-4fad-40dc-c2be-309101031374"
      },
      "source": [
        "print(X_train.shape, X_test.shape, y_train.shape, y_test.shape)\n"
      ],
      "execution_count": 10,
      "outputs": [
        {
          "output_type": "stream",
          "text": [
            "(60000, 28, 28, 1) (10000, 28, 28, 1) (60000, 10) (10000, 10)\n"
          ],
          "name": "stdout"
        }
      ]
    },
    {
      "cell_type": "code",
      "metadata": {
        "colab": {
          "base_uri": "https://localhost:8080/"
        },
        "id": "voieVhH1JL3D",
        "outputId": "bcbb83f0-4d55-4544-c40c-7cd0699b0b00"
      },
      "source": [
        "\n",
        "# CNN_base_model\n",
        "input = Input(shape=(X_train.shape[1], X_train.shape[2], X_train.shape[3]))\n",
        "conv1 =Conv2D(filters = 64,\n",
        "              kernel_size= (3,3),\n",
        "              strides =(1,1),\n",
        "              padding ='same', \n",
        "              activation='relu')(input)\n",
        "\n",
        "pool_1 =  MaxPooling2D(pool_size= (2,2))(conv1)\n",
        "x = Flatten()(pool_1)\n",
        "dense_1 = Dense(64, activation='relu')(x)\n",
        "output =  Dense(10, activation='softmax')(dense_1)\n",
        "    \n",
        "model = Model(inputs=input, outputs = output)\n",
        "\n",
        "model.summary()"
      ],
      "execution_count": 22,
      "outputs": [
        {
          "output_type": "stream",
          "text": [
            "Model: \"model\"\n",
            "_________________________________________________________________\n",
            "Layer (type)                 Output Shape              Param #   \n",
            "=================================================================\n",
            "input_2 (InputLayer)         [(None, 28, 28, 1)]       0         \n",
            "_________________________________________________________________\n",
            "conv2d_3 (Conv2D)            (None, 28, 28, 64)        640       \n",
            "_________________________________________________________________\n",
            "max_pooling2d_2 (MaxPooling2 (None, 14, 14, 64)        0         \n",
            "_________________________________________________________________\n",
            "flatten_2 (Flatten)          (None, 12544)             0         \n",
            "_________________________________________________________________\n",
            "dense_3 (Dense)              (None, 64)                802880    \n",
            "_________________________________________________________________\n",
            "dense_4 (Dense)              (None, 10)                650       \n",
            "=================================================================\n",
            "Total params: 804,170\n",
            "Trainable params: 804,170\n",
            "Non-trainable params: 0\n",
            "_________________________________________________________________\n"
          ],
          "name": "stdout"
        }
      ]
    },
    {
      "cell_type": "code",
      "metadata": {
        "colab": {
          "base_uri": "https://localhost:8080/"
        },
        "id": "Oc3oPCGcPDfT",
        "outputId": "52160f48-4604-449e-cfb5-436bb0caf1b3"
      },
      "source": [
        "model.compile(optimizer='adam', loss = 'categorical_crossentropy', metrics=['accuracy'])\n",
        "model.fit(X_train, y_train, batch_size= 32, epochs=10, validation_data=(X_test,y_test))"
      ],
      "execution_count": 25,
      "outputs": [
        {
          "output_type": "stream",
          "text": [
            "Epoch 1/10\n",
            "1875/1875 [==============================] - 64s 34ms/step - loss: 0.1575 - accuracy: 0.9522 - val_loss: 0.0653 - val_accuracy: 0.9785\n",
            "Epoch 2/10\n",
            "1875/1875 [==============================] - 61s 32ms/step - loss: 0.0544 - accuracy: 0.9835 - val_loss: 0.0491 - val_accuracy: 0.9835\n",
            "Epoch 3/10\n",
            "1875/1875 [==============================] - 67s 36ms/step - loss: 0.0357 - accuracy: 0.9891 - val_loss: 0.0546 - val_accuracy: 0.9824\n",
            "Epoch 4/10\n",
            "1875/1875 [==============================] - 66s 35ms/step - loss: 0.0250 - accuracy: 0.9921 - val_loss: 0.0517 - val_accuracy: 0.9833\n",
            "Epoch 5/10\n",
            "1875/1875 [==============================] - 86s 46ms/step - loss: 0.0180 - accuracy: 0.9940 - val_loss: 0.0515 - val_accuracy: 0.9838\n",
            "Epoch 6/10\n",
            "1875/1875 [==============================] - 72s 39ms/step - loss: 0.0119 - accuracy: 0.9962 - val_loss: 0.0595 - val_accuracy: 0.9833\n",
            "Epoch 7/10\n",
            "1875/1875 [==============================] - 71s 38ms/step - loss: 0.0099 - accuracy: 0.9969 - val_loss: 0.0620 - val_accuracy: 0.9836\n",
            "Epoch 8/10\n",
            "1875/1875 [==============================] - 85s 45ms/step - loss: 0.0080 - accuracy: 0.9972 - val_loss: 0.0631 - val_accuracy: 0.9849\n",
            "Epoch 9/10\n",
            "1875/1875 [==============================] - 75s 40ms/step - loss: 0.0055 - accuracy: 0.9983 - val_loss: 0.0816 - val_accuracy: 0.9828\n",
            "Epoch 10/10\n",
            "1875/1875 [==============================] - 73s 39ms/step - loss: 0.0055 - accuracy: 0.9980 - val_loss: 0.0664 - val_accuracy: 0.9845\n"
          ],
          "name": "stdout"
        },
        {
          "output_type": "execute_result",
          "data": {
            "text/plain": [
              "<keras.callbacks.History at 0x7fe0874121d0>"
            ]
          },
          "metadata": {},
          "execution_count": 25
        }
      ]
    },
    {
      "cell_type": "code",
      "metadata": {
        "colab": {
          "base_uri": "https://localhost:8080/"
        },
        "id": "6nXTX85wQ4gh",
        "outputId": "a69cd2ea-a050-4833-b0b7-6cc9ca4d4e79"
      },
      "source": [
        "# CNN_advanced_model\n",
        "input = Input(shape=(X_train.shape[1], X_train.shape[2], X_train.shape[3]))\n",
        "conv1 = Conv2D(filters = 64,\n",
        "              kernel_size= (3,3),\n",
        "              strides =(1,1),\n",
        "              padding ='same')(input)\n",
        "bn_1 = BatchNormalization()(conv1)\n",
        "act_1 = Activation('relu')(bn_1)\n",
        "\n",
        "\n",
        "pool_1 =  MaxPooling2D(pool_size= (2,2))(act_1)\n",
        "x = Flatten()(pool_1)\n",
        "dense_1 = Dense(64, activation='relu')(x)\n",
        "drop_1 = Dropout(0.3)(dense_1)\n",
        "output =  Dense(10, activation='softmax')(drop_1)\n",
        "    \n",
        "advanced_model = Model(inputs=input, outputs = output)\n",
        "\n",
        "advanced_model.summary()"
      ],
      "execution_count": 30,
      "outputs": [
        {
          "output_type": "stream",
          "text": [
            "Model: \"model_2\"\n",
            "_________________________________________________________________\n",
            "Layer (type)                 Output Shape              Param #   \n",
            "=================================================================\n",
            "input_4 (InputLayer)         [(None, 28, 28, 1)]       0         \n",
            "_________________________________________________________________\n",
            "conv2d_6 (Conv2D)            (None, 28, 28, 64)        640       \n",
            "_________________________________________________________________\n",
            "batch_normalization_2 (Batch (None, 28, 28, 64)        256       \n",
            "_________________________________________________________________\n",
            "activation_2 (Activation)    (None, 28, 28, 64)        0         \n",
            "_________________________________________________________________\n",
            "max_pooling2d_4 (MaxPooling2 (None, 14, 14, 64)        0         \n",
            "_________________________________________________________________\n",
            "flatten_4 (Flatten)          (None, 12544)             0         \n",
            "_________________________________________________________________\n",
            "dense_7 (Dense)              (None, 64)                802880    \n",
            "_________________________________________________________________\n",
            "dropout_1 (Dropout)          (None, 64)                0         \n",
            "_________________________________________________________________\n",
            "dense_8 (Dense)              (None, 10)                650       \n",
            "=================================================================\n",
            "Total params: 804,426\n",
            "Trainable params: 804,298\n",
            "Non-trainable params: 128\n",
            "_________________________________________________________________\n"
          ],
          "name": "stdout"
        }
      ]
    },
    {
      "cell_type": "code",
      "metadata": {
        "colab": {
          "base_uri": "https://localhost:8080/"
        },
        "id": "NGgie3p_Sv50",
        "outputId": "417d4740-31f6-4eaa-c984-83843f2cb60a"
      },
      "source": [
        "advanced_model.compile(optimizer='adam', loss = 'categorical_crossentropy', metrics=['accuracy'])\n",
        "advanced_model.fit(X_train, y_train, batch_size= 32, epochs=3, validation_data=(X_test,y_test))"
      ],
      "execution_count": 31,
      "outputs": [
        {
          "output_type": "stream",
          "text": [
            "Epoch 1/3\n",
            "1875/1875 [==============================] - 112s 59ms/step - loss: 0.6066 - accuracy: 0.7954 - val_loss: 0.1749 - val_accuracy: 0.9506\n",
            "Epoch 2/3\n",
            "1875/1875 [==============================] - 104s 56ms/step - loss: 0.3937 - accuracy: 0.8658 - val_loss: 0.1104 - val_accuracy: 0.9686\n",
            "Epoch 3/3\n",
            "1875/1875 [==============================] - 109s 58ms/step - loss: 0.3027 - accuracy: 0.8931 - val_loss: 0.0990 - val_accuracy: 0.9693\n"
          ],
          "name": "stdout"
        },
        {
          "output_type": "execute_result",
          "data": {
            "text/plain": [
              "<keras.callbacks.History at 0x7fe087b747d0>"
            ]
          },
          "metadata": {},
          "execution_count": 31
        }
      ]
    }
  ]
}